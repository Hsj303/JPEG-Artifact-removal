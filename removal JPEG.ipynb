{
 "cells": [
  {
   "cell_type": "code",
   "execution_count": 81,
   "metadata": {},
   "outputs": [
    {
     "name": "stdout",
     "output_type": "stream",
     "text": [
      "37.60664791026185\n"
     ]
    }
   ],
   "source": [
    "import numpy as np\n",
    "import cv2\n",
    "from PIL import Image\n",
    "input='\\\\Desktop\\\\Lenna.png'\n",
    "input1=cv2.imread(input)\n",
    "input1=cv2.cvtColor(input1,cv2.COLOR_BGR2GRAY)\n",
    "input1=np.array(input1)\n",
    "#input=np.array(input)\n",
    "recon='\\\\Desktop\\\\Lenna_in.png'\n",
    "#recon=Image.open(recon)\n",
    "#recon.show()\n",
    "input=cv2.imread(input)\n",
    "recon=cv2.imread(recon)\n",
    "\n",
    "\n",
    "\n",
    "psnr2=[]\n",
    "psnr5=[]\n",
    "psnr10=[]\n",
    "#input=cv2.cvtColor(input,cv2.COLOR_BGR2GRAY)\n",
    "\n",
    "#input = cv2.resize(input, (8192, 8192),interpolation=cv2.INTER_LANCZOS4)\n",
    "recon = cv2.resize(recon, (512, 512),interpolation=cv2.INTER_LANCZOS4)\n",
    "print(psnr(input,recon))                          \n",
    "#recon=np.array(recon)\n",
    "# interpolation=cv2.INTER_LANCZOS4\n",
    "#print(recon.shape)\n",
    "#print(input.shape)\n",
    "\n",
    "encode_param=[int(cv2.IMWRITE_JPEG_QUALITY),20]\n",
    "result,encimg=cv2.imencode('.jpg',recon,encode_param)\n",
    "result1,encimg1=cv2.imencode('.jpg',input,encode_param)\n",
    "if False==result:\n",
    "    print ('could not encode image!')\n",
    "    quit()\n",
    "\n",
    "#decode from jpeg format\n",
    "reconjpg=cv2.imdecode(encimg,1)\n",
    "inputjpg=cv2.imdecode(encimg1,1)\n",
    "\n",
    "reconjpg=cv2.cvtColor(reconjpg,cv2.COLOR_BGR2GRAY)\n",
    "inputjpg=cv2.cvtColor(inputjpg,cv2.COLOR_BGR2GRAY)\n",
    "recon=cv2.cvtColor(recon,cv2.COLOR_BGR2GRAY)\n",
    "#reconjpg=cv2.imread(reconjpg)\n",
    "#reconjpg = Image.fromarray(reconjpg)\n",
    "#cv2.imwrite('an\\\\Desktop',reconjpg)\n",
    "#print(recon-reconjpg+inputjpg)\n",
    "\n",
    "#resultimg1=np.array(recon-reconjpg)\n",
    "#resultimg1 = Image.fromarray(resultimg1) \n",
    "#cv2.imwrite('an\\\\Desktop',reconjpg)\n",
    "#resultimg1.show(title='recon-reconjpg')\n",
    "\n",
    "resultimg=np.array(recon+inputjpg-reconjpg)\n",
    "\n",
    "resultimg1=np.array(recon+inputjpg-reconjpg)\n",
    "#print(resultimg)\n",
    "resultimg = Image.fromarray(resultimg) \n",
    "resultimg.save('\\\\Desktop\\\\rstimg_5_512.png',\"PNG\")\n",
    "#resultimg.show(title='resultimg')\n",
    "\n",
    "#reconjpg = reconjpg.save(\"recon.png\")\n",
    "reconjpg=np.array(reconjpg)\n",
    "reconjpg = Image.fromarray(reconjpg)\n",
    "reconjpg.save('esktop\\\\reconjpg_5_512.png',\"PNG\") \n",
    "#reconjpg.show(title='reconjpg')\n",
    "\n",
    "inputjpg=np.array(inputjpg)\n",
    "inputjpg1=np.array(inputjpg)\n",
    "inputjpg = Image.fromarray(inputjpg) \n",
    "inputjpg.save('\\\\GFPGAN\\\\inputs\\\\whole_imgs\\\\inputjpg_5.png',\"PNG\")\n",
    "inputjpg.save('\\\\Desktop\\\\inputjpg_5_512.png',\"PNG\")\n",
    "#inputjpg.show(title='inputjpg')\n",
    "\n",
    "input1=np.array(recon)\n",
    "recon = Image.fromarray(recon) \n",
    "recon.save('\\\\Desktop\\\\recon_512.png',\"PNG\")\n",
    "#recon.show(title='reconpng')\n",
    "\n",
    "##psnr\n",
    "psnr10.append(psnr(input1,resultimg1))\n",
    "\n"
   ]
  },
  {
   "cell_type": "code",
   "execution_count": 82,
   "metadata": {},
   "outputs": [
    {
     "name": "stdout",
     "output_type": "stream",
     "text": [
      "[37.989239941549144]\n",
      "[]\n",
      "[]\n"
     ]
    }
   ],
   "source": [
    "print(psnr10)\n",
    "print(psnr5)\n",
    "print(psnr2)"
   ]
  },
  {
   "cell_type": "code",
   "execution_count": 1,
   "metadata": {},
   "outputs": [],
   "source": [
    "import cv2\n",
    "import numpy as np\n",
    "from PIL import Image\n",
    "lena='n\\\\Desktop\\\\5_7_exp\\\\lenna.png'\n",
    "lena=cv2.imread(lena)\n",
    "lena=cv2.cvtColor(lena,cv2.COLOR_BGR2GRAY)\n",
    "lena=np.array(lena)\n",
    "lena = Image.fromarray(lena) \n",
    "lena.save('\\\\Desktop\\\\5_7_exp\\\\graylenna.png',\"PNG\")\n",
    "#recon.show(title='reconpng')\n"
   ]
  }
 ],
 "metadata": {
  "kernelspec": {
   "display_name": "Python 3",
   "language": "python",
   "name": "python3"
  },
  "language_info": {
   "codemirror_mode": {
    "name": "ipython",
    "version": 3
   },
   "file_extension": ".py",
   "mimetype": "text/x-python",
   "name": "python",
   "nbconvert_exporter": "python",
   "pygments_lexer": "ipython3",
   "version": "3.10.7"
  },
  "orig_nbformat": 4
 },
 "nbformat": 4,
 "nbformat_minor": 2
}
